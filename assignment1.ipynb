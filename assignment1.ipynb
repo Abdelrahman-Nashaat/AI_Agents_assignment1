{
 "cells": [
  {
   "cell_type": "code",
   "execution_count": 1,
   "id": "6f11575a-d48e-4c5d-a14a-740a4c00a67e",
   "metadata": {},
   "outputs": [
    {
     "name": "stdout",
     "output_type": "stream",
     "text": [
      "Suck\n",
      "Right\n"
     ]
    }
   ],
   "source": [
    "def vacuum_agent(percept):\n",
    "    location, status = percept\n",
    "    if status == 'Dirty':\n",
    "        return 'Suck'\n",
    "    elif location == 'A':\n",
    "        return 'Right'\n",
    "    elif location == 'B':\n",
    "        return 'Left'\n",
    "\n",
    "print(vacuum_agent(('A', 'Dirty'))) # Output: Suck\n",
    "print(vacuum_agent(('A', 'Clean'))) # Output: Right"
   ]
  },
  {
   "cell_type": "code",
   "execution_count": 3,
   "id": "0790806e-bc27-4953-bf83-6031f27ba5eb",
   "metadata": {},
   "outputs": [
    {
     "name": "stdout",
     "output_type": "stream",
     "text": [
      "['Suck', 'Right', 'Suck']\n"
     ]
    }
   ],
   "source": [
    "percepts = [('A', 'Dirty'), ('A', 'Clean'), ('B', 'Dirty')]\n",
    "actions = [vacuum_agent(p) for p in percepts]\n",
    "print(actions)"
   ]
  },
  {
   "cell_type": "code",
   "execution_count": 5,
   "id": "bb1ada63-df19-4828-809b-5725e0982203",
   "metadata": {},
   "outputs": [
    {
     "name": "stdout",
     "output_type": "stream",
     "text": [
      "Suck\n",
      "Right\n",
      "NoOp\n"
     ]
    }
   ],
   "source": [
    "class ModelBasedVacuumAgent:\n",
    "    def __init__(self):\n",
    "        self.model = {'A': None, 'B': None}\n",
    "\n",
    "    def act(self, percept):\n",
    "        location, status = percept\n",
    "        self.model[location] = status\n",
    "        if status == 'Dirty':\n",
    "            return 'Suck'\n",
    "        elif self.model['A'] == 'Clean' and self.model['B'] == 'Clean':\n",
    "            return 'NoOp'\n",
    "        return 'Right' if location == 'A' else 'Left'\n",
    "\n",
    "agent = ModelBasedVacuumAgent()\n",
    "print(agent.act(('A', 'Dirty')))\n",
    "print(agent.act(('A', 'Clean')))\n",
    "print(agent.act(('B', 'Clean')))"
   ]
  },
  {
   "cell_type": "code",
   "execution_count": 7,
   "id": "2615c958-3f08-4bc8-a79c-9bfc499ee038",
   "metadata": {},
   "outputs": [
    {
     "name": "stdout",
     "output_type": "stream",
     "text": [
      "🟩 PEAS Description for Self-Driving Taxi:\n",
      "✅ Performance Measure: Safe driving, Fast arrival, Obey traffic rules, Passenger comfort, Maximize profit\n",
      "🌍 Environment: City roads, Traffic signals, Pedestrians, Passengers, Other vehicles\n",
      "⚙️ Actuators: Steering, Accelerator, Brake, Signal lights, Horn\n"
     ]
    }
   ],
   "source": [
    "class PEAS:\n",
    "    def __init__(self, performance, environment, actuators, sensors):\n",
    "        self.performance = performance\n",
    "        self.environment = environment\n",
    "        self.actuators = actuators\n",
    "        self.sensors = sensors\n",
    "\n",
    "    def display(self):\n",
    "        print(\"🟩 PEAS Description for Self-Driving Taxi:\")\n",
    "        print(f\"✅ Performance Measure: {', '.join(self.performance)}\")\n",
    "        print(f\"🌍 Environment: {', '.join(self.environment)}\")\n",
    "        print(f\"⚙️ Actuators: {', '.join(self.actuators)}\")\n",
    "\n",
    "taxi_peas = PEAS(\n",
    "    performance=['Safe driving', 'Fast arrival', 'Obey traffic rules', 'Passenger comfort', 'Maximize profit'],\n",
    "    environment=['City roads', 'Traffic signals', 'Pedestrians', 'Passengers', 'Other vehicles'],\n",
    "    actuators=['Steering', 'Accelerator', 'Brake', 'Signal lights', 'Horn'],\n",
    "    sensors=['GPS', 'Cameras', 'LIDAR', 'Speedometer', 'Microphones']\n",
    ")\n",
    "\n",
    "taxi_peas.display()"
   ]
  },
  {
   "cell_type": "code",
   "execution_count": 9,
   "id": "1f878dd6-304e-4abb-8124-4678d491f4b9",
   "metadata": {},
   "outputs": [
    {
     "name": "stdout",
     "output_type": "stream",
     "text": [
      "Cost Cairo -> Beni Suef -> Minya: 244\n",
      "Cost Giza -> Minya: 235\n"
     ]
    }
   ],
   "source": [
    "egypt_map = {\n",
    "    'Cairo': {'Giza': 10, 'Beni Suef': 124},\n",
    "    'Giza': {'Fayoum': 90, 'Cairo': 10},\n",
    "    'Fayoum': {'Minya': 145, 'Giza': 90},\n",
    "    'Beni Suef': {'Minya': 120, 'Cairo': 124},\n",
    "    'Minya': {'Assiut': 150, 'Fayoum': 145, 'Beni Suef': 120},\n",
    "    'Assiut': {'Sohag': 95, 'Minya': 150},\n",
    "    'Sohag': {'Assiut': 95}\n",
    "}\n",
    "\n",
    "# Function to calculate travel cost (total distance)\n",
    "def travel_cost(path):\n",
    "    cost = 0\n",
    "    # egypt_map['Cairo']['Beni Suef'] 124\n",
    "    # egypt_map['Beni Suef']['Minya'] 120\n",
    "    for i in range(len(path) - 1):\n",
    "        cost += egypt_map[path[i]][path[i+1]]\n",
    "    return cost\n",
    "\n",
    "# Test paths\n",
    "print(\"Cost Cairo -> Beni Suef -> Minya:\", travel_cost(['Cairo', 'Beni Suef', 'Minya']))\n",
    "print(\"Cost Giza -> Minya:\", travel_cost(['Giza', 'Fayoum', 'Minya'])) # Direct via same route"
   ]
  },
  {
   "cell_type": "code",
   "execution_count": 11,
   "id": "efac2423-f740-4383-b355-5568b3152df5",
   "metadata": {},
   "outputs": [
    {
     "name": "stdout",
     "output_type": "stream",
     "text": [
      "Left\n",
      "Suck\n",
      "{('A', 'Dirty'): 'Left', ('B', 'Clean'): 'Suck'}\n"
     ]
    }
   ],
   "source": [
    "import random\n",
    "\n",
    "class LearningAgent:\n",
    "    def __init__(self):\n",
    "        self.experience = {}\n",
    "\n",
    "    def act(self, percept):\n",
    "        if percept not in self.experience:\n",
    "            self.experience[percept] = random.choice(['Left', 'Right', 'Suck'])\n",
    "        return self.experience[percept]\n",
    "\n",
    "agent = LearningAgent()\n",
    "print(agent.act(('A', 'Dirty')))\n",
    "print(agent.act(('B', 'Clean')))\n",
    "print(agent.experience) # Shows autonomy based on learned responses"
   ]
  },
  {
   "cell_type": "code",
   "execution_count": 13,
   "id": "c786ffe1-3051-4e85-824d-94e73a4a1146",
   "metadata": {},
   "outputs": [
    {
     "name": "stdout",
     "output_type": "stream",
     "text": [
      "Performance: [\"Student's score\"]\n",
      "Environment: ['Set of students']\n",
      "Actuators: ['Display', 'Voice', 'Suggestions']\n",
      "Sensors: ['Keyboard', 'Microphone']\n"
     ]
    }
   ],
   "source": [
    "PEAS_tutor = {\n",
    "    'Performance': ['Student\\'s score'],\n",
    "    'Environment': ['Set of students'],\n",
    "    'Actuators': ['Display', 'Voice', 'Suggestions'],\n",
    "    'Sensors': ['Keyboard', 'Microphone']\n",
    "}\n",
    "\n",
    "for k, v in PEAS_tutor.items():\n",
    "    print(f\"{k}: {v}\")"
   ]
  },
  {
   "cell_type": "code",
   "execution_count": 15,
   "id": "17bcd8f1-d75f-4862-9663-a86ce30b1773",
   "metadata": {},
   "outputs": [
    {
     "name": "stdout",
     "output_type": "stream",
     "text": [
      "Place in Bin 1\n",
      "Place in Bin 2\n",
      "Reject\n"
     ]
    }
   ],
   "source": [
    "def part_picking_robot(part_type):\n",
    "    if part_type == 'Screw':\n",
    "        return 'Place in Bin 1'\n",
    "    elif part_type == 'Bolt':\n",
    "        return 'Place in Bin 2'\n",
    "    else:\n",
    "        return 'Reject'\n",
    "\n",
    "print(part_picking_robot('Screw'))\n",
    "print(part_picking_robot('Bolt'))\n",
    "print(part_picking_robot('Washer'))"
   ]
  },
  {
   "cell_type": "code",
   "execution_count": 17,
   "id": "e777f48d-8f2c-4578-ae89-d5b4d748a4e6",
   "metadata": {},
   "outputs": [
    {
     "name": "stdout",
     "output_type": "stream",
     "text": [
      "Crawling Baby Autonomy Level: 0.5\n"
     ]
    }
   ],
   "source": [
    "class Agent:\n",
    "    def __init__(self, name):\n",
    "        self.name = name\n",
    "        self.autonomy = 0.0\n",
    "\n",
    "    def learn(self):\n",
    "        self.autonomy += 0.1\n",
    "\n",
    "agent = Agent(\"Crawling Baby\")\n",
    "for _ in range(5):\n",
    "    agent.learn()\n",
    "print(f\"{agent.name} Autonomy Level: {agent.autonomy}\")"
   ]
  },
  {
   "cell_type": "code",
   "execution_count": null,
   "id": "83fca921-0e34-4ff9-95cf-b74a4a309495",
   "metadata": {},
   "outputs": [],
   "source": []
  }
 ],
 "metadata": {
  "kernelspec": {
   "display_name": "Python [conda env:langchain_env]",
   "language": "python",
   "name": "conda-env-langchain_env-py"
  },
  "language_info": {
   "codemirror_mode": {
    "name": "ipython",
    "version": 3
   },
   "file_extension": ".py",
   "mimetype": "text/x-python",
   "name": "python",
   "nbconvert_exporter": "python",
   "pygments_lexer": "ipython3",
   "version": "3.12.9"
  }
 },
 "nbformat": 4,
 "nbformat_minor": 5
}
